{
 "cells": [
  {
   "cell_type": "markdown",
   "metadata": {
    "colab_type": "text",
    "id": "eXc_7H4b8WvU"
   },
   "source": [
    "# Qiskit Scalability Testing "
   ]
  },
  {
   "cell_type": "markdown",
   "metadata": {
    "colab_type": "text",
    "id": "9o1L-Oon-h82"
   },
   "source": [
    "## General headers"
   ]
  },
  {
   "cell_type": "code",
   "execution_count": 14,
   "metadata": {
    "colab": {
     "base_uri": "https://localhost:8080/",
     "height": 887
    },
    "colab_type": "code",
    "id": "FRtJoX2t9op7",
    "outputId": "478631be-55c4-435a-f8ad-171c5bed7f45"
   },
   "outputs": [],
   "source": [
    "# !pip install qiskit\n",
    "import numpy as np\n",
    "import matplotlib.pyplot as plt\n",
    "from math import floor, pi, sqrt\n",
    "from time import process_time\n",
    "from qiskit import *\n",
    "from qiskit.quantum_info.operators import Operator\n",
    "from qiskit.visualization import plot_histogram\n",
    "from qiskit.circuit import Gate\n"
   ]
  },
  {
   "cell_type": "markdown",
   "metadata": {
    "colab_type": "text",
    "id": "NmrqjHhd_RTh"
   },
   "source": [
    "## Helper Functions"
   ]
  },
  {
   "cell_type": "code",
   "execution_count": 2,
   "metadata": {
    "colab": {},
    "colab_type": "code",
    "id": "Oaolkwo0_TQ3"
   },
   "outputs": [],
   "source": [
    "def get_bitstring_permutations(index, lst, n, args):\n",
    "    \"\"\"\n",
    "    This function populates a list with all the combinations of bit strings of length n\n",
    "    \"\"\"\n",
    "    if (index == n):\n",
    "        # append combination to list\n",
    "        lst.append(list.copy(args))\n",
    "    else:\n",
    "        # handle the case where the preceding bit is 0\n",
    "        args[index] = 0\n",
    "        get_bitstring_permutations(index + 1, lst, n, args)\n",
    "\n",
    "        # handle the case where the preceding bit is 1\n",
    "        args[index] = 1\n",
    "        get_bitstring_permutations(index + 1, lst, n, args)\n",
    "\n",
    "def generate_uf(f, n):\n",
    "    \"\"\"\n",
    "    Parameters: f is an anonymous function and n is the number of bits in input: f:{0,1}^n -> {0,1}^n\n",
    "    This function returns an oracle gate representing the function f for all x in {0,1}^n and y in {0,1}^n,\n",
    "    the desired result is of the oracle is mapping the input x,y> to |x, y + f(x)> where + is addition modulo 2.\n",
    "    The function first finds the list of bitstring permutations of n bits, it then establishes a mapping which is\n",
    "    representative of the decimal number of the bitstring represents. For each |x,y>, it calculates\n",
    "    |x, y + f(x)>. Finally it constructs a permutation gate which treats each permutation as a different basis vector\n",
    "    in the 2^(n+1) dimensional complex Hilbert space that represents a system of 2*n qubits.\n",
    "    Returns: the permutation gate\n",
    "    \"\"\"\n",
    "    # generate list of all bitstrings of size n\n",
    "    bitstrings = []\n",
    "    get_bitstring_permutations(0, bitstrings, n + 1, [0] * (n + 1))\n",
    "\n",
    "    # initialize mapping and permutation list\n",
    "    perm_dict = dict()\n",
    "    perm_list = []\n",
    "\n",
    "    # populate mapping\n",
    "    for permutation, bitstring in enumerate(bitstrings):\n",
    "        values = [0] * (len(bitstrings))\n",
    "        values[permutation] = 1\n",
    "        perm_dict[\"\".join(str(bit) for bit in bitstring)] = values\n",
    "\n",
    "    # Send each |xy> to |x, f(x) + y>\n",
    "    for bitstring in bitstrings:\n",
    "        params = bitstring[:n]\n",
    "        params.append((f(params) + bitstring[-1]) % 2)\n",
    "        perm_list.append(perm_dict[\"\".join(str(bit) for bit in params)])\n",
    "    return Operator(np.array(perm_list))\n",
    "\n",
    "def apply_H(circuit, apply_to_list):\n",
    "    \"\"\"\n",
    "    Apply Hadamards to all specified qubits (if apply_to_list[index] == 1).\n",
    "    Designed for a large amount of Hadamards being applied at once.\n",
    "    \"\"\"\n",
    "    for index, qubit in enumerate(apply_to_list):\n",
    "        if qubit == 1:\n",
    "            circuit.h(index)\n",
    "    return circuit\n",
    "\n",
    "def initialize_dj(n):\n",
    "    \"\"\"\n",
    "    This function sets initial states and applies Hadamards to each qubit\n",
    "    Note: apply_H isn't called because it is actually more efficient to initialize in one loop as opposed to 2.\n",
    "    \"\"\"\n",
    "    # apply H to first n qubits and X H to the last qubit (ancilla qubit)\n",
    "    quantum_register = QuantumRegister(n + 1)\n",
    "    classical_register = ClassicalRegister(n)\n",
    "    quantum_circuit = QuantumCircuit(quantum_register, classical_register)\n",
    "    # In qiskit, all quantum registers start in the low energy |0> state so we must apply an x gate to our helper bit\n",
    "    # in order to put it in the state |1>\n",
    "    quantum_circuit.x(quantum_register[-1])\n",
    "    for index in range(n + 1):\n",
    "        quantum_circuit.h(quantum_register[index])\n",
    "    quantum_circuit.barrier()\n",
    "    return quantum_circuit, quantum_register, classical_register\n",
    "\n",
    "def initialize_bv(states):\n",
    "    \"\"\"\n",
    "    This function sets initial states and applies Hadamards to each qubit\n",
    "    Note: apply_H isn't called because it is actually more efficient to initialize in one loop as opposed to 2.\n",
    "    \"\"\"\n",
    "    n = len(states)\n",
    "    circuit = QuantumCircuit(n, n-1)\n",
    "    for index, state in enumerate(states):\n",
    "        if state == 1:\n",
    "            circuit.x(index)\n",
    "        circuit.h(index)\n",
    "    return circuit\n",
    "\n",
    "\n"
   ]
  },
  {
   "cell_type": "markdown",
   "metadata": {
    "colab_type": "text",
    "id": "Vl8uhuhJ_yQx"
   },
   "source": [
    "## Deutsch Jozsa Algorithm"
   ]
  },
  {
   "cell_type": "code",
   "execution_count": 3,
   "metadata": {
    "colab": {},
    "colab_type": "code",
    "id": "kUndS0Mc_6zz"
   },
   "outputs": [],
   "source": [
    "def deutsch_jozsa_algorithm(f, n, shots=1024, threshold=0.9):\n",
    "    \"\"\"\n",
    "    This function is intended to determine if f is constant or balanced for a given function f s.t.\n",
    "        f:{0,1}^n -> {0,1}. The algorithm initializes the qubits with H for the first n qubits and X and H for the last\n",
    "        qubit. The algorithm then constructs a Uf oracle gate based on the function input f. It then applies Uf to all\n",
    "        the qubits and applies H to the first n qubits. Finally, the simulator is run on the circuit and measures the\n",
    "        results. If upon measurement, the first n qubits are all 0, 1 is returned and the function is constant,\n",
    "        otherwise 0 is returned and the function is balanced.\n",
    "    This function has an anonymous function and integer n as parameters.\n",
    "    This function uses 9q-squared-qvm, so it assumes that n <= 9.\n",
    "    \"\"\"\n",
    "    # apply H to first n qubits and X H to the last qubit (ancilla qubit)\n",
    "    quantum_circuit, quantum_register, classical_register = initialize_dj(n)\n",
    "\n",
    "    # Generate Uf oracle from f (anonymous function)\n",
    "    uf_gate = generate_uf(f, n)\n",
    "    # Applying the uf_gate must be done with the qubits in the reverse order due to the implementation of qiskit\n",
    "    rv_qr = list()\n",
    "    for index in range(n + 1):\n",
    "        rv_qr.append(index)\n",
    "    rv_qr.reverse()\n",
    "    quantum_circuit.unitary(uf_gate, rv_qr)\n",
    "    quantum_circuit.barrier()\n",
    "\n",
    "    # Apply Hadamards to first n qubits\n",
    "    for index in range(n):\n",
    "        quantum_circuit.h(quantum_register[index])\n",
    "\n",
    "    # Run simulator\n",
    "    quantum_simulator = Aer.get_backend('qasm_simulator')\n",
    "    quantum_circuit.measure(quantum_register[0:n], classical_register)\n",
    "    # quantum_circuit.draw('mpl')\n",
    "    # plt.show()\n",
    "\n",
    "    # Evaluate the job results\n",
    "#     start = process_time()\n",
    "    job = execute(quantum_circuit, quantum_simulator, shots=shots)\n",
    "#     end = process_time()\n",
    "#     total_time = end - start\n",
    "    results = job.result()\n",
    "    counts = results.get_counts(quantum_circuit)\n",
    "\n",
    "    # NOTE: 1 = constant, 0 = balanced\n",
    "    # To compensate for the error rates of actual quantum machines, the threshold for being consider balanced is\n",
    "    # set to be threshold * shots, or a percentage of shots given at runtime.\n",
    "\n",
    "    # Function is constant\n",
    "    key = '0' * n\n",
    "    if key in counts:\n",
    "        if counts[key] >= threshold * shots:\n",
    "            return 1\n",
    "    key = '1' * n\n",
    "    if key in counts:\n",
    "        if counts[key] >= threshold * shots:\n",
    "            return 1\n",
    "\n",
    "    # Function is balanced\n",
    "    return 0"
   ]
  },
  {
   "cell_type": "markdown",
   "metadata": {
    "colab_type": "text",
    "id": "Q0FyB5kvAGSo"
   },
   "source": [
    "### Running the algorithm\n",
    "Sample functions:"
   ]
  },
  {
   "cell_type": "code",
   "execution_count": 4,
   "metadata": {
    "colab": {},
    "colab_type": "code",
    "id": "_oLFOpPiAMNj"
   },
   "outputs": [],
   "source": [
    "def f_balanced(args):\n",
    "    return args[0]\n",
    "\n",
    "def f_constant(args):\n",
    "    return 1\n",
    "\n",
    "input_size = 11"
   ]
  },
  {
   "cell_type": "markdown",
   "metadata": {
    "colab_type": "text",
    "id": "kU5MoPZsAsBy"
   },
   "source": [
    "#### Evaluating Runtime\n",
    "Balanced:"
   ]
  },
  {
   "cell_type": "code",
   "execution_count": 5,
   "metadata": {
    "colab": {},
    "colab_type": "code",
    "id": "izEXCBaqArLK"
   },
   "outputs": [
    {
     "name": "stdout",
     "output_type": "stream",
     "text": [
      "[0.015854000000000035, 0.005192000000000974, 0.0061989999999996215, 0.008514000000000799, 0.020997000000000376, 0.046950999999999965, 0.17492899999999967, 0.5230120000000005, 2.31294, 13.958708000000001, 98.195615]\n"
     ]
    },
    {
     "data": {
      "text/plain": [
       "([<matplotlib.axis.XTick at 0x116f3df28>,\n",
       "  <matplotlib.axis.XTick at 0x116f3def0>,\n",
       "  <matplotlib.axis.XTick at 0x116f3db38>,\n",
       "  <matplotlib.axis.XTick at 0x116d5a7f0>,\n",
       "  <matplotlib.axis.XTick at 0x116d5ac88>,\n",
       "  <matplotlib.axis.XTick at 0x116d6e198>,\n",
       "  <matplotlib.axis.XTick at 0x116d6e5f8>,\n",
       "  <matplotlib.axis.XTick at 0x116d6ea90>,\n",
       "  <matplotlib.axis.XTick at 0x116d6ef28>,\n",
       "  <matplotlib.axis.XTick at 0x116d77400>,\n",
       "  <matplotlib.axis.XTick at 0x116d77898>],\n",
       " <a list of 11 Text major ticklabel objects>)"
      ]
     },
     "execution_count": 5,
     "metadata": {},
     "output_type": "execute_result"
    },
    {
     "data": {
      "image/png": "[encoded data removed]",
      "text/plain": [
       "<Figure size 432x288 with 1 Axes>"
      ]
     },
     "metadata": {
      "needs_background": "light"
     },
     "output_type": "display_data"
    }
   ],
   "source": [
    "times = []\n",
    "for i in range(1,input_size+1):\n",
    "    start = process_time()\n",
    "    res = deutsch_jozsa_algorithm(f_balanced, i, shots=1)\n",
    "    times.append(process_time()-start)\n",
    "print(times)\n",
    "plt.plot(range(1,input_size+1), times)\n",
    "plt.xticks(np.arange(1, input_size+1, step=1))"
   ]
  },
  {
   "cell_type": "markdown",
   "metadata": {},
   "source": [
    "Constant:"
   ]
  },
  {
   "cell_type": "code",
   "execution_count": 6,
   "metadata": {},
   "outputs": [
    {
     "name": "stdout",
     "output_type": "stream",
     "text": [
      "[0.018906999999998675, 0.00792299999999102, 0.005309999999994375, 0.006535999999996989, 0.019407000000015273, 0.05139400000001615, 0.13742899999999736, 0.5257780000000025, 2.3371449999999925, 14.271650999999991, 92.26831200000001]\n"
     ]
    },
    {
     "data": {
      "text/plain": [
       "([<matplotlib.axis.XTick at 0x116e606a0>,\n",
       "  <matplotlib.axis.XTick at 0x116e60668>,\n",
       "  <matplotlib.axis.XTick at 0x116e602b0>,\n",
       "  <matplotlib.axis.XTick at 0x127ff9ef0>,\n",
       "  <matplotlib.axis.XTick at 0x127fcf3c8>,\n",
       "  <matplotlib.axis.XTick at 0x127fcf860>,\n",
       "  <matplotlib.axis.XTick at 0x127fcfcf8>,\n",
       "  <matplotlib.axis.XTick at 0x127fd81d0>,\n",
       "  <matplotlib.axis.XTick at 0x127fd8668>,\n",
       "  <matplotlib.axis.XTick at 0x127fd8b00>,\n",
       "  <matplotlib.axis.XTick at 0x127fd8e80>],\n",
       " <a list of 11 Text major ticklabel objects>)"
      ]
     },
     "execution_count": 6,
     "metadata": {},
     "output_type": "execute_result"
    },
    {
     "data": {
      "image/png": "[encoded data removed]",
      "text/plain": [
       "<Figure size 432x288 with 1 Axes>"
      ]
     },
     "metadata": {
      "needs_background": "light"
     },
     "output_type": "display_data"
    }
   ],
   "source": [
    "times = []\n",
    "for i in range(1,input_size+1):\n",
    "    start = process_time()\n",
    "    res = deutsch_jozsa_algorithm(f_constant, i, shots=1)\n",
    "    times.append(process_time()-start)\n",
    "print(times)\n",
    "plt.plot(range(1,input_size+1), times)\n",
    "plt.xticks(np.arange(1, input_size+1, step=1))"
   ]
  },
  {
   "cell_type": "markdown",
   "metadata": {},
   "source": [
    "## Bernstein Vazirani"
   ]
  },
  {
   "cell_type": "code",
   "execution_count": 7,
   "metadata": {},
   "outputs": [],
   "source": [
    "def bernstein_vazirani_algorithm(f, n):\n",
    "    initialize_list = [0] * n\n",
    "\n",
    "    # calculate b by f(0^n) = b\n",
    "    b = f(initialize_list)\n",
    "\n",
    "    # Initialize circuit by applying H to first n qubits and X H to last qubit (ancilla qubit)\n",
    "    initialize_list.append(1)\n",
    "    qubits = list(range(len(initialize_list)))\n",
    "    circuit = initialize_bv(initialize_list)\n",
    "\n",
    "    # Generate Uf oracle from f (anonymous function)\n",
    "    uf_gate = generate_uf(f, n)\n",
    "    # Applying the uf_gate must be done with the qubits in the reverse order due to the implementation of qiskit\n",
    "    rv_qubits = qubits[::-1]\n",
    "    circuit.unitary(uf_gate, rv_qubits)\n",
    "\n",
    "    # Apply H to all qubits except for the last qubit\n",
    "    apply_to_list = [1] * n\n",
    "    apply_to_list.append(0)\n",
    "    circuit = apply_H(circuit, apply_to_list)\n",
    "    circuit.measure(range(n),range(n))\n",
    "\n",
    "    # run simulator and measure qubits\n",
    "    simulator = Aer.get_backend(\"qasm_simulator\")\n",
    "    job = execute(circuit, simulator, shots=1)\n",
    "    result = job.result()\n",
    "    counts = result.get_counts(circuit)\n",
    "    plot_histogram(counts)\n",
    "    for count in counts:\n",
    "        a = count\n",
    "    return a,b"
   ]
  },
  {
   "cell_type": "markdown",
   "metadata": {},
   "source": [
    "### Running the algorithm\n",
    "Sample functions:"
   ]
  },
  {
   "cell_type": "code",
   "execution_count": 8,
   "metadata": {},
   "outputs": [],
   "source": [
    "def f_bv(x):\n",
    "    n = len(x)\n",
    "    y = 0\n",
    "    for i,x_i in enumerate(x):\n",
    "        y = (y + (x_i*(i%2)))%2\n",
    "    y = (y+(n%2))%2\n",
    "    return(y)"
   ]
  },
  {
   "cell_type": "markdown",
   "metadata": {},
   "source": [
    "#### Evaluating Runtime"
   ]
  },
  {
   "cell_type": "code",
   "execution_count": 9,
   "metadata": {},
   "outputs": [
    {
     "name": "stdout",
     "output_type": "stream",
     "text": [
      "[0.04524000000000683, 0.03967000000000098, 0.04499200000000769, 0.048734999999993533, 0.07138699999998721, 0.09288000000000807, 0.15705800000000636, 0.7450629999999876, 2.412245999999982, 13.449462000000011, 95.802956]\n"
     ]
    },
    {
     "data": {
      "text/plain": [
       "([<matplotlib.axis.XTick at 0x1282a2470>,\n",
       "  <matplotlib.axis.XTick at 0x1282a2438>,\n",
       "  <matplotlib.axis.XTick at 0x1282a2080>,\n",
       "  <matplotlib.axis.XTick at 0x1282c4cc0>,\n",
       "  <matplotlib.axis.XTick at 0x128265198>,\n",
       "  <matplotlib.axis.XTick at 0x128265630>,\n",
       "  <matplotlib.axis.XTick at 0x128265ac8>,\n",
       "  <matplotlib.axis.XTick at 0x128265f60>,\n",
       "  <matplotlib.axis.XTick at 0x1282650f0>,\n",
       "  <matplotlib.axis.XTick at 0x12826c390>,\n",
       "  <matplotlib.axis.XTick at 0x12826c828>],\n",
       " <a list of 11 Text major ticklabel objects>)"
      ]
     },
     "execution_count": 9,
     "metadata": {},
     "output_type": "execute_result"
    },
    {
     "data": {
      "image/png": "[encoded data removed]",
      "text/plain": [
       "<Figure size 432x288 with 1 Axes>"
      ]
     },
     "metadata": {
      "needs_background": "light"
     },
     "output_type": "display_data"
    }
   ],
   "source": [
    "times = []\n",
    "for i in range(1,input_size+1):\n",
    "    start = process_time()\n",
    "    res = bernstein_vazirani_algorithm(f_bv, i)\n",
    "    times.append(process_time()-start)\n",
    "print(times)\n",
    "plt.plot(range(1,input_size+1), times)\n",
    "plt.xticks(np.arange(1, input_size+1, step=1))"
   ]
  },
  {
   "cell_type": "markdown",
   "metadata": {},
   "source": [
    "## Grovers"
   ]
  },
  {
   "cell_type": "code",
   "execution_count": 10,
   "metadata": {},
   "outputs": [],
   "source": [
    "def get_Z0(n):\n",
    "    \"\"\"\n",
    "    This function generates the Z0 gate satisfying the conditions for x in {0,1}^n Z0|x> -> -|x> iff x = 0^n\n",
    "        otherwise Z0|x> -> |x>\n",
    "    The parameter to this function is only the size n, a 2^n x 2^n dimensional matrix is created satisfying the\n",
    "        conditions above.\n",
    "    This function has one dependency, the DefGate function defined in pyquil.quil\n",
    "    This function is designed to absorb the negative in G, so the returned gate is actually -Z0\n",
    "    Returns -Z0\n",
    "    \"\"\"\n",
    "    # Create a 2^n x 2^n matrix with all 0's\n",
    "    gate = np.zeros((2 ** n, 2 ** n), dtype=int)\n",
    "    # since this is -Z0, set first element to 1 not -1\n",
    "    gate[0][0] = 1\n",
    "    # set all other elements on the diagonal to -1, again not 1 because this is -Z0\n",
    "    for i in range(1, 2 ** n):\n",
    "        gate[i][i] = -1\n",
    "    # Return gate\n",
    "    return Operator(gate)\n",
    "\n",
    "\n",
    "def get_Zf(f, n):\n",
    "    \"\"\"\n",
    "    This function generates the Zf gate satisfying the condition for x in {0,1}^n where Zf|x> -> (-1)^f(X)|x>\n",
    "    This function requires that f(x) be calculated for all x, so f is passed as an anonymous function, the other\n",
    "        parameter is n.\n",
    "    The function has one dependency, the DefGate function defined in pyquil.quil\n",
    "    This function finds all permutations of bitstrings of length n, then initializes a 2^n x 2^n matrix of all 0's,\n",
    "        and sets all elements along the diagonal to either 1 or -1 depending on f(x)\n",
    "    Finally a gate representation of this matrix is returned.\n",
    "    \"\"\"\n",
    "    # generate bitstring permutations\n",
    "    bitstrings = list()\n",
    "    get_bitstring_permutations(0, bitstrings, n, [0] * n)\n",
    "    # initialize a 2^n x 2^n matrix of all 0's\n",
    "    gate = np.zeros((2 ** n, 2 ** n), dtype=int)\n",
    "    # set diagonals of matrix based on f(x)\n",
    "    for i in range(2 ** n):\n",
    "        gate[i][i] = -1 if f(bitstrings[i]) == 1 else 1\n",
    "    # create and return gate\n",
    "    return Operator(gate)\n",
    "\n",
    "def grovers_algorithm(f, n, shots=1024, threshold=0.9):\n",
    "    \"\"\"\n",
    "    This function is intended to determine if there exists an x in {0,1}^n s.t. f(x) = 1 for a given function f s.t.\n",
    "        f:{0,1}^n -> {0,1}. The algorithm first constructs Zf, -Z0 gates, initializes with Hanamard matrices, and\n",
    "        applies G = -H^n o Z0 o H^n o Zf. This algorithm is not deterministic, so G is applied multiple times. More\n",
    "        specifically, G is run (pi / 4 * sqrt(n)) times. Furthermore, there are 10 trials to minimize the chance of a\n",
    "        false negative.\n",
    "    This function has an anonymous function and integer n as parameters.\n",
    "    This function runs the algorithm as described for each 10 trials, and then checks if for any of the outputted states\n",
    "        x, if f(x) = 1. If this is true, then 1 is returned, otherwise 0 is returned. The function returns 0 if there\n",
    "        is an issue with the simulator.\n",
    "    This function uses 9q-squared-qvm, so it assumes that n <= 9\n",
    "    \"\"\"\n",
    "    # Initialize the circuit and apply Hadamards to all qubits\n",
    "    quantum_circuit, quantum_register, classical_register = initialize_dj(n)\n",
    "\n",
    "    # Needed for application of custom gates since Operator works in reverse\n",
    "    rv_qr = list()\n",
    "    for index in range(n):\n",
    "        rv_qr.append(index)\n",
    "    rv_qr.reverse()\n",
    "\n",
    "    # Define and generate Z0 gate (really -Z0)\n",
    "    z0_gate = get_Z0(n)\n",
    "\n",
    "    # Define and generate Zf gate\n",
    "    zf_gate = get_Zf(f, n)\n",
    "\n",
    "    # Determine the number of times to apply G\n",
    "    iteration_count = floor(pi / 4 * sqrt(2 ** n))\n",
    "    # Apply G iteration_count times\n",
    "    for i in range(iteration_count):\n",
    "        # Apply Zf\n",
    "        quantum_circuit.unitary(zf_gate, rv_qr)\n",
    "        # Apply H to all qubits\n",
    "        for index in range(n):\n",
    "            quantum_circuit.h(quantum_register[index])\n",
    "        # Apply -Z0\n",
    "        quantum_circuit.unitary(z0_gate, rv_qr)\n",
    "        # Apply H to all qubits\n",
    "        for index in range(n):\n",
    "            quantum_circuit.h(quantum_register[index])\n",
    "        quantum_circuit.barrier()\n",
    "\n",
    "    # Run simulator\n",
    "    quantum_simulator = Aer.get_backend('qasm_simulator')\n",
    "    quantum_circuit.measure(quantum_register[0:n], classical_register)\n",
    "\n",
    "    # Display circuit diagram\n",
    "    quantum_circuit.draw('mpl')\n",
    "    plt.show()\n",
    "\n",
    "    # Execute and evaluate the job results\n",
    "    job = execute(quantum_circuit, quantum_simulator, shots=shots)\n",
    "    results = job.result()\n",
    "    counts = results.get_counts(quantum_circuit)\n",
    "    return counts\n",
    "\n",
    "    # Parse results and return 1 or 0 accordingly\n",
    "#    dict = {}\n",
    "#     for key in counts:\n",
    "#         if counts[key] >= (shots/(2**n)):\n",
    "#            dict[key] = counts[key]\n",
    "#     for key in dict:\n",
    "#         poop = list(key)\n",
    "#         poop = [int(i) for i in poop]\n",
    "#         poop.reverse()\n",
    "#         if f(poop) == 1:\n",
    "#             return 1\n",
    "#     return 0\n",
    "\n"
   ]
  },
  {
   "cell_type": "markdown",
   "metadata": {},
   "source": [
    "### Running the algorithm\n",
    "Sample functions:"
   ]
  },
  {
   "cell_type": "code",
   "execution_count": 11,
   "metadata": {},
   "outputs": [],
   "source": [
    "def f_0(args):\n",
    "    return 0\n",
    "\n",
    "def f_1(args):\n",
    "    return 1\n",
    "\n",
    "def f_100(args):\n",
    "    n = len(args)\n",
    "    marked = [0]*(n-1)\n",
    "    marked.append(1)\n",
    "    if(args == marked):\n",
    "        return 1\n",
    "    return 0"
   ]
  },
  {
   "cell_type": "markdown",
   "metadata": {},
   "source": [
    "#### Evaluating Runtime\n",
    "f_0:"
   ]
  },
  {
   "cell_type": "code",
   "execution_count": null,
   "metadata": {},
   "outputs": [],
   "source": [
    "input_size = 8\n",
    "times = []\n",
    "for i in range(1,input_size+1):\n",
    "    start = process_time()\n",
    "    res = grovers_algorithm(f_0, i, shots=1024, threshold=0.9)\n",
    "    times.append(process_time()-start)\n",
    "print(times)\n",
    "plt.plot(range(1,input_size+1), times)\n",
    "plt.xticks(np.arange(1, input_size+1, step=1))"
   ]
  },
  {
   "cell_type": "markdown",
   "metadata": {},
   "source": [
    "f_1:"
   ]
  },
  {
   "cell_type": "code",
   "execution_count": null,
   "metadata": {},
   "outputs": [],
   "source": [
    "times = []\n",
    "for i in range(1,input_size+1):\n",
    "    start = process_time()\n",
    "    res = grovers_algorithm(f_1, i, shots=1024, threshold=0.9)\n",
    "    times.append(process_time()-start)\n",
    "print(times)\n",
    "plt.plot(range(1,input_size+1), times)\n",
    "plt.xticks(np.arange(1, input_size+1, step=1))"
   ]
  },
  {
   "cell_type": "markdown",
   "metadata": {},
   "source": [
    "f_100:"
   ]
  },
  {
   "cell_type": "code",
   "execution_count": null,
   "metadata": {},
   "outputs": [],
   "source": [
    "times = []\n",
    "for i in range(1,input_size+1):\n",
    "    start = process_time()\n",
    "    res = grovers_algorithm(f_100, i, shots=1024, threshold=0.9)\n",
    "    times.append(process_time()-start)\n",
    "print(times)\n",
    "plt.plot(range(1,input_size+1), times)\n",
    "plt.xticks(np.arange(1, input_size+1, step=1))"
   ]
  },
  {
   "cell_type": "code",
   "execution_count": null,
   "metadata": {},
   "outputs": [],
   "source": []
  }
 ],
 "metadata": {
  "colab": {
   "collapsed_sections": [],
   "name": "Qiskit.ipynb",
   "provenance": []
  },
  "kernelspec": {
   "display_name": "Python 3",
   "language": "python",
   "name": "python3"
  },
  "language_info": {
   "codemirror_mode": {
    "name": "ipython",
    "version": 3
   },
   "file_extension": ".py",
   "mimetype": "text/x-python",
   "name": "python",
   "nbconvert_exporter": "python",
   "pygments_lexer": "ipython3",
   "version": "3.6.3"
  }
 },
 "nbformat": 4,
 "nbformat_minor": 1
}
