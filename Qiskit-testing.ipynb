{
 "cells": [
  {
   "cell_type": "markdown",
   "metadata": {
    "colab_type": "text",
    "id": "eXc_7H4b8WvU"
   },
   "source": [
    "# Qiskit Scalability Testing "
   ]
  },
  {
   "cell_type": "markdown",
   "metadata": {
    "colab_type": "text",
    "id": "9o1L-Oon-h82"
   },
   "source": [
    "## General headers"
   ]
  },
  {
   "cell_type": "code",
   "execution_count": 6,
   "metadata": {
    "colab": {
     "base_uri": "https://localhost:8080/",
     "height": 887
    },
    "colab_type": "code",
    "id": "FRtJoX2t9op7",
    "outputId": "478631be-55c4-435a-f8ad-171c5bed7f45"
   },
   "outputs": [],
   "source": [
    "#!pip install qiskit\n",
    "import numpy as np\n",
    "import matplotlib.pyplot as plt\n",
    "from math import floor, pi, sqrt\n",
    "from time import process_time\n",
    "from qiskit import *\n",
    "from qiskit.quantum_info.operators import Operator\n",
    "from qiskit.visualization import plot_histogram\n",
    "from qiskit.circuit import Gate\n"
   ]
  },
  {
   "cell_type": "markdown",
   "metadata": {
    "colab_type": "text",
    "id": "NmrqjHhd_RTh"
   },
   "source": [
    "## Helper Functions"
   ]
  },
  {
   "cell_type": "code",
   "execution_count": 4,
   "metadata": {
    "colab": {},
    "colab_type": "code",
    "id": "Oaolkwo0_TQ3"
   },
   "outputs": [],
   "source": [
    "def get_bitstring_permutations(index, lst, n, args):\n",
    "    \"\"\"\n",
    "    This function populates a list with all the combinations of bit strings of length n\n",
    "    \"\"\"\n",
    "    if (index == n):\n",
    "        # append combination to list\n",
    "        lst.append(list.copy(args))\n",
    "    else:\n",
    "        # handle the case where the preceding bit is 0\n",
    "        args[index] = 0\n",
    "        get_bitstring_permutations(index + 1, lst, n, args)\n",
    "\n",
    "        # handle the case where the preceding bit is 1\n",
    "        args[index] = 1\n",
    "        get_bitstring_permutations(index + 1, lst, n, args)\n",
    "\n",
    "def generate_uf(f, n):\n",
    "    \"\"\"\n",
    "    Parameters: f is an anonymous function and n is the number of bits in input: f:{0,1}^n -> {0,1}^n\n",
    "    This function returns an oracle gate representing the function f for all x in {0,1}^n and y in {0,1}^n,\n",
    "    the desired result is of the oracle is mapping the input x,y> to |x, y + f(x)> where + is addition modulo 2.\n",
    "    The function first finds the list of bitstring permutations of n bits, it then establishes a mapping which is\n",
    "    representative of the decimal number of the bitstring represents. For each |x,y>, it calculates\n",
    "    |x, y + f(x)>. Finally it constructs a permutation gate which treats each permutation as a different basis vector\n",
    "    in the 2^(n+1) dimensional complex Hilbert space that represents a system of 2*n qubits.\n",
    "    Returns: the permutation gate\n",
    "    \"\"\"\n",
    "    # generate list of all bitstrings of size n\n",
    "    bitstrings = []\n",
    "    get_bitstring_permutations(0, bitstrings, n + 1, [0] * (n + 1))\n",
    "\n",
    "    # initialize mapping and permutation list\n",
    "    perm_dict = dict()\n",
    "    perm_list = []\n",
    "\n",
    "    # populate mapping\n",
    "    for permutation, bitstring in enumerate(bitstrings):\n",
    "        values = [0] * (len(bitstrings))\n",
    "        values[permutation] = 1\n",
    "        perm_dict[\"\".join(str(bit) for bit in bitstring)] = values\n",
    "\n",
    "    # Send each |xy> to |x, f(x) + y>\n",
    "    for bitstring in bitstrings:\n",
    "        params = bitstring[:n]\n",
    "        params.append((f(params) + bitstring[-1]) % 2)\n",
    "        perm_list.append(perm_dict[\"\".join(str(bit) for bit in params)])\n",
    "    return Operator(np.array(perm_list))\n",
    "\n",
    "def apply_H(circuit, apply_to_list):\n",
    "    \"\"\"\n",
    "    Apply Hadamards to all specified qubits (if apply_to_list[index] == 1).\n",
    "    Designed for a large amount of Hadamards being applied at once.\n",
    "    \"\"\"\n",
    "    for index, qubit in enumerate(apply_to_list):\n",
    "        if qubit == 1:\n",
    "            circuit.h(index)\n",
    "    return circuit\n",
    "\n",
    "def initialize_dj(n):\n",
    "    \"\"\"\n",
    "    This function sets initial states and applies Hadamards to each qubit\n",
    "    Note: apply_H isn't called because it is actually more efficient to initialize in one loop as opposed to 2.\n",
    "    \"\"\"\n",
    "    # apply H to first n qubits and X H to the last qubit (ancilla qubit)\n",
    "    quantum_register = QuantumRegister(n + 1)\n",
    "    classical_register = ClassicalRegister(n)\n",
    "    quantum_circuit = QuantumCircuit(quantum_register, classical_register)\n",
    "    # In qiskit, all quantum registers start in the low energy |0> state so we must apply an x gate to our helper bit\n",
    "    # in order to put it in the state |1>\n",
    "    quantum_circuit.x(quantum_register[-1])\n",
    "    for index in range(n + 1):\n",
    "        quantum_circuit.h(quantum_register[index])\n",
    "    quantum_circuit.barrier()\n",
    "    return quantum_circuit, quantum_register, classical_register\n",
    "\n",
    "def initialize_bv(states):\n",
    "    \"\"\"\n",
    "    This function sets initial states and applies Hadamards to each qubit\n",
    "    Note: apply_H isn't called because it is actually more efficient to initialize in one loop as opposed to 2.\n",
    "    \"\"\"\n",
    "    n = len(states)\n",
    "    circuit = QuantumCircuit(n, n-1)\n",
    "    for index, state in enumerate(states):\n",
    "        if state == 1:\n",
    "            circuit.x(index)\n",
    "        circuit.h(index)\n",
    "    return circuit\n",
    "\n",
    "\n"
   ]
  },
  {
   "cell_type": "markdown",
   "metadata": {
    "colab_type": "text",
    "id": "Vl8uhuhJ_yQx"
   },
   "source": [
    "## Deutsch Jozsa Algorithm"
   ]
  },
  {
   "cell_type": "code",
   "execution_count": 3,
   "metadata": {
    "colab": {},
    "colab_type": "code",
    "id": "kUndS0Mc_6zz"
   },
   "outputs": [],
   "source": [
    "def deutsch_jozsa_algorithm(f, n, shots=1024, threshold=0.9):\n",
    "    \"\"\"\n",
    "    This function is intended to determine if f is constant or balanced for a given function f s.t.\n",
    "        f:{0,1}^n -> {0,1}. The algorithm initializes the qubits with H for the first n qubits and X and H for the last\n",
    "        qubit. The algorithm then constructs a Uf oracle gate based on the function input f. It then applies Uf to all\n",
    "        the qubits and applies H to the first n qubits. Finally, the simulator is run on the circuit and measures the\n",
    "        results. If upon measurement, the first n qubits are all 0, 1 is returned and the function is constant,\n",
    "        otherwise 0 is returned and the function is balanced.\n",
    "    This function has an anonymous function and integer n as parameters.\n",
    "    This function uses 9q-squared-qvm, so it assumes that n <= 9.\n",
    "    \"\"\"\n",
    "    # apply H to first n qubits and X H to the last qubit (ancilla qubit)\n",
    "    quantum_circuit, quantum_register, classical_register = initialize_dj(n)\n",
    "\n",
    "    # Generate Uf oracle from f (anonymous function)\n",
    "    uf_gate = generate_uf(f, n)\n",
    "    # Applying the uf_gate must be done with the qubits in the reverse order due to the implementation of qiskit\n",
    "    rv_qr = list()\n",
    "    for index in range(n + 1):\n",
    "        rv_qr.append(index)\n",
    "    rv_qr.reverse()\n",
    "    quantum_circuit.unitary(uf_gate, rv_qr)\n",
    "    quantum_circuit.barrier()\n",
    "\n",
    "    # Apply Hadamards to first n qubits\n",
    "    for index in range(n):\n",
    "        quantum_circuit.h(quantum_register[index])\n",
    "\n",
    "    # Run simulator\n",
    "    quantum_simulator = Aer.get_backend('qasm_simulator')\n",
    "    quantum_circuit.measure(quantum_register[0:n], classical_register)\n",
    "    # quantum_circuit.draw('mpl')\n",
    "    # plt.show()\n",
    "\n",
    "    # Evaluate the job results\n",
    "#     start = process_time()\n",
    "    job = execute(quantum_circuit, quantum_simulator, shots=shots)\n",
    "#     end = process_time()\n",
    "#     total_time = end - start\n",
    "    results = job.result()\n",
    "    counts = results.get_counts(quantum_circuit)\n",
    "\n",
    "    # NOTE: 1 = constant, 0 = balanced\n",
    "    # To compensate for the error rates of actual quantum machines, the threshold for being consider balanced is\n",
    "    # set to be threshold * shots, or a percentage of shots given at runtime.\n",
    "\n",
    "    # Function is constant\n",
    "    key = '0' * n\n",
    "    if key in counts:\n",
    "        if counts[key] >= threshold * shots:\n",
    "            return 1\n",
    "    key = '1' * n\n",
    "    if key in counts:\n",
    "        if counts[key] >= threshold * shots:\n",
    "            return 1\n",
    "\n",
    "    # Function is balanced\n",
    "    return 0"
   ]
  },
  {
   "cell_type": "markdown",
   "metadata": {
    "colab_type": "text",
    "id": "Q0FyB5kvAGSo"
   },
   "source": [
    "### Running the algorithm\n",
    "Sample functions:"
   ]
  },
  {
   "cell_type": "code",
   "execution_count": 4,
   "metadata": {
    "colab": {},
    "colab_type": "code",
    "id": "_oLFOpPiAMNj"
   },
   "outputs": [],
   "source": [
    "def f_balanced(args):\n",
    "    return args[0]\n",
    "\n",
    "def f_constant(args):\n",
    "    return 1\n",
    "\n",
    "input_size = 10"
   ]
  },
  {
   "cell_type": "markdown",
   "metadata": {
    "colab_type": "text",
    "id": "kU5MoPZsAsBy"
   },
   "source": [
    "#### Evaluating Runtime\n",
    "Balanced:"
   ]
  },
  {
   "cell_type": "code",
   "execution_count": 5,
   "metadata": {
    "colab": {},
    "colab_type": "code",
    "id": "izEXCBaqArLK"
   },
   "outputs": [
    {
     "name": "stdout",
     "output_type": "stream",
     "text": [
      "[0.013550999999999647, 0.004743999999999637, 0.0071390000000004505, 0.0073110000000005115, 0.02240199999999959, 0.05135299999999976, 0.16877300000000073, 0.4757940000000005, 2.2849450000000004, 12.112794999999998]\n"
     ]
    },
    {
     "data": {
      "text/plain": [
       "Text(0.5, 1.0, 'DJ: Execution Time for Balanced Function vs. Input Size')"
      ]
     },
     "execution_count": 5,
     "metadata": {},
     "output_type": "execute_result"
    },
    {
     "data": {
      "image/png": "[encoded data removed]",
      "text/plain": [
       "<Figure size 432x288 with 1 Axes>"
      ]
     },
     "metadata": {
      "needs_background": "light"
     },
     "output_type": "display_data"
    }
   ],
   "source": [
    "times = []\n",
    "for i in range(1,input_size+1):\n",
    "    start = process_time()\n",
    "    res = deutsch_jozsa_algorithm(f_balanced, i, shots=1)\n",
    "    times.append(process_time()-start)\n",
    "print(times)\n",
    "plt.plot(range(1,input_size+1), times)\n",
    "for x,y in zip(range(1,input_size+1),times):\n",
    "\n",
    "    label = \"{:.3f}\".format(y)\n",
    "    plt.annotate(label, # this is the text\n",
    "                 (x,y), # this is the point to label\n",
    "                 textcoords=\"offset points\", # how to position the text\n",
    "                 xytext=(0,10), # distance from text to points (x,y)\n",
    "                 ha='right') # horizontal alignment can be left, right or center\n",
    "plt.xticks(np.arange(0, input_size+1, step=1))\n",
    "plt.yticks(np.arange(0, 15, step=1))\n",
    "plt.ylabel(\"Execution Time (s)\")\n",
    "plt.xlabel(\"Input Size (n)\")\n",
    "plt.title(\"DJ: Execution Time for Balanced Function vs. Input Size\")"
   ]
  },
  {
   "cell_type": "markdown",
   "metadata": {},
   "source": [
    "Constant:"
   ]
  },
  {
   "cell_type": "code",
   "execution_count": 6,
   "metadata": {},
   "outputs": [
    {
     "name": "stdout",
     "output_type": "stream",
     "text": [
      "[0.006683999999999912, 0.006793999999999301, 0.005253000000003283, 0.0059219999999982065, 0.02523300000000006, 0.09317300000000017, 0.15325299999999942, 0.47892399999999924, 2.2069380000000045, 11.564470999999998]\n"
     ]
    },
    {
     "data": {
      "text/plain": [
       "Text(0.5, 1.0, 'DJ: Execution Time for Constant Function vs. Input Size')"
      ]
     },
     "execution_count": 6,
     "metadata": {},
     "output_type": "execute_result"
    },
    {
     "data": {
      "image/png": "[encoded data removed]",
      "text/plain": [
       "<Figure size 432x288 with 1 Axes>"
      ]
     },
     "metadata": {
      "needs_background": "light"
     },
     "output_type": "display_data"
    }
   ],
   "source": [
    "times = []\n",
    "for i in range(1,input_size+1):\n",
    "    start = process_time()\n",
    "    res = deutsch_jozsa_algorithm(f_constant, i, shots=1)\n",
    "    times.append(process_time()-start)\n",
    "print(times)\n",
    "plt.plot(range(1,input_size+1), times)\n",
    "for x,y in zip(range(1,input_size+1),times):\n",
    "    label = \"{:.3f}\".format(y)\n",
    "    plt.annotate(label, # this is the text\n",
    "                 (x,y), # this is the point to label\n",
    "                 textcoords=\"offset points\", # how to position the text\n",
    "                 xytext=(0,10), # distance from text to points (x,y)\n",
    "                 ha='right') # horizontal alignment can be left, right or center\n",
    "plt.xticks(np.arange(0, input_size+1, step=1))\n",
    "plt.yticks(np.arange(0, 14, step=1))\n",
    "plt.ylabel(\"Execution Time (s)\")\n",
    "plt.xlabel(\"Input Size (n)\")\n",
    "plt.title(\"DJ: Execution Time for Constant Function vs. Input Size\")"
   ]
  },
  {
   "cell_type": "markdown",
   "metadata": {},
   "source": [
    "## Bernstein Vazirani"
   ]
  },
  {
   "cell_type": "code",
   "execution_count": 7,
   "metadata": {},
   "outputs": [],
   "source": [
    "def bernstein_vazirani_algorithm(f, n):\n",
    "    initialize_list = [0] * n\n",
    "\n",
    "    # calculate b by f(0^n) = b\n",
    "    b = f(initialize_list)\n",
    "\n",
    "    # Initialize circuit by applying H to first n qubits and X H to last qubit (ancilla qubit)\n",
    "    initialize_list.append(1)\n",
    "    qubits = list(range(len(initialize_list)))\n",
    "    circuit = initialize_bv(initialize_list)\n",
    "\n",
    "    # Generate Uf oracle from f (anonymous function)\n",
    "    uf_gate = generate_uf(f, n)\n",
    "    # Applying the uf_gate must be done with the qubits in the reverse order due to the implementation of qiskit\n",
    "    rv_qubits = qubits[::-1]\n",
    "    circuit.unitary(uf_gate, rv_qubits)\n",
    "\n",
    "    # Apply H to all qubits except for the last qubit\n",
    "    apply_to_list = [1] * n\n",
    "    apply_to_list.append(0)\n",
    "    circuit = apply_H(circuit, apply_to_list)\n",
    "    circuit.measure(range(n),range(n))\n",
    "\n",
    "    # run simulator and measure qubits\n",
    "    simulator = Aer.get_backend(\"qasm_simulator\")\n",
    "    job = execute(circuit, simulator, shots=1)\n",
    "    result = job.result()\n",
    "    counts = result.get_counts(circuit)\n",
    "    plot_histogram(counts)\n",
    "    for count in counts:\n",
    "        a = count\n",
    "    return a,b"
   ]
  },
  {
   "cell_type": "markdown",
   "metadata": {},
   "source": [
    "### Running the algorithm\n",
    "Sample functions:"
   ]
  },
  {
   "cell_type": "code",
   "execution_count": 8,
   "metadata": {},
   "outputs": [],
   "source": [
    "def f_bv(x):\n",
    "    n = len(x)\n",
    "    y = 0\n",
    "    for i,x_i in enumerate(x):\n",
    "        y = (y + (x_i*(i%2)))%2\n",
    "    y = (y+(n%2))%2\n",
    "    return(y)"
   ]
  },
  {
   "cell_type": "markdown",
   "metadata": {},
   "source": [
    "#### Evaluating Runtime"
   ]
  },
  {
   "cell_type": "code",
   "execution_count": 9,
   "metadata": {},
   "outputs": [
    {
     "name": "stdout",
     "output_type": "stream",
     "text": [
      "[0.02595200000000375, 0.02114199999999755, 0.02307700000000068, 0.022567000000002224, 0.050880999999996845, 0.14485500000000684, 0.19534600000000069, 0.47273899999999713, 2.089991000000005, 11.803996999999995]\n"
     ]
    },
    {
     "data": {
      "text/plain": [
       "Text(0.5, 1.0, 'BV: Execution Time vs. Input Size')"
      ]
     },
     "execution_count": 9,
     "metadata": {},
     "output_type": "execute_result"
    },
    {
     "data": {
      "image/png": "[encoded data removed]",
      "text/plain": [
       "<Figure size 432x288 with 1 Axes>"
      ]
     },
     "metadata": {
      "needs_background": "light"
     },
     "output_type": "display_data"
    }
   ],
   "source": [
    "times = []\n",
    "for i in range(1,input_size+1):\n",
    "    start = process_time()\n",
    "    res = bernstein_vazirani_algorithm(f_bv, i)\n",
    "    times.append(process_time()-start)\n",
    "print(times)\n",
    "plt.plot(range(1,input_size+1), times)\n",
    "for x,y in zip(range(1,input_size+1),times):\n",
    "\n",
    "    label = \"{:.3f}\".format(y)\n",
    "    plt.annotate(label, # this is the text\n",
    "                 (x,y), # this is the point to label\n",
    "                 textcoords=\"offset points\", # how to position the text\n",
    "                 xytext=(0,10), # distance from text to points (x,y)\n",
    "                 ha='right') # horizontal alignment can be left, right or center\n",
    "plt.xticks(np.arange(0, input_size+1, step=1))\n",
    "plt.yticks(np.arange(0, 15, step=1))\n",
    "plt.ylabel(\"Execution Time (s)\")\n",
    "plt.xlabel(\"Input Size (n)\")\n",
    "plt.title(\"BV: Execution Time vs. Input Size\")"
   ]
  },
  {
   "cell_type": "markdown",
   "metadata": {},
   "source": [
    "## Grovers"
   ]
  },
  {
   "cell_type": "code",
   "execution_count": 10,
   "metadata": {},
   "outputs": [],
   "source": [
    "def get_Z0(n):\n",
    "    \"\"\"\n",
    "    This function generates the Z0 gate satisfying the conditions for x in {0,1}^n Z0|x> -> -|x> iff x = 0^n\n",
    "        otherwise Z0|x> -> |x>\n",
    "    The parameter to this function is only the size n, a 2^n x 2^n dimensional matrix is created satisfying the\n",
    "        conditions above.\n",
    "    This function has one dependency, the DefGate function defined in pyquil.quil\n",
    "    This function is designed to absorb the negative in G, so the returned gate is actually -Z0\n",
    "    Returns -Z0\n",
    "    \"\"\"\n",
    "    # Create a 2^n x 2^n matrix with all 0's\n",
    "    gate = np.zeros((2 ** n, 2 ** n), dtype=int)\n",
    "    # since this is -Z0, set first element to 1 not -1\n",
    "    gate[0][0] = 1\n",
    "    # set all other elements on the diagonal to -1, again not 1 because this is -Z0\n",
    "    for i in range(1, 2 ** n):\n",
    "        gate[i][i] = -1\n",
    "    # Return gate\n",
    "    return Operator(gate)\n",
    "\n",
    "\n",
    "def get_Zf(f, n):\n",
    "    \"\"\"\n",
    "    This function generates the Zf gate satisfying the condition for x in {0,1}^n where Zf|x> -> (-1)^f(X)|x>\n",
    "    This function requires that f(x) be calculated for all x, so f is passed as an anonymous function, the other\n",
    "        parameter is n.\n",
    "    The function has one dependency, the DefGate function defined in pyquil.quil\n",
    "    This function finds all permutations of bitstrings of length n, then initializes a 2^n x 2^n matrix of all 0's,\n",
    "        and sets all elements along the diagonal to either 1 or -1 depending on f(x)\n",
    "    Finally a gate representation of this matrix is returned.\n",
    "    \"\"\"\n",
    "    # generate bitstring permutations\n",
    "    bitstrings = list()\n",
    "    get_bitstring_permutations(0, bitstrings, n, [0] * n)\n",
    "    # initialize a 2^n x 2^n matrix of all 0's\n",
    "    gate = np.zeros((2 ** n, 2 ** n), dtype=int)\n",
    "    # set diagonals of matrix based on f(x)\n",
    "    for i in range(2 ** n):\n",
    "        gate[i][i] = -1 if f(bitstrings[i]) == 1 else 1\n",
    "    # create and return gate\n",
    "    return Operator(gate)\n",
    "\n",
    "def grovers_algorithm(f, n, shots=1024, threshold=0.9):\n",
    "    \"\"\"\n",
    "    This function is intended to determine if there exists an x in {0,1}^n s.t. f(x) = 1 for a given function f s.t.\n",
    "        f:{0,1}^n -> {0,1}. The algorithm first constructs Zf, -Z0 gates, initializes with Hanamard matrices, and\n",
    "        applies G = -H^n o Z0 o H^n o Zf. This algorithm is not deterministic, so G is applied multiple times. More\n",
    "        specifically, G is run (pi / 4 * sqrt(n)) times. Furthermore, there are 10 trials to minimize the chance of a\n",
    "        false negative.\n",
    "    This function has an anonymous function and integer n as parameters.\n",
    "    This function runs the algorithm as described for each 10 trials, and then checks if for any of the outputted states\n",
    "        x, if f(x) = 1. If this is true, then 1 is returned, otherwise 0 is returned. The function returns 0 if there\n",
    "        is an issue with the simulator.\n",
    "    This function uses 9q-squared-qvm, so it assumes that n <= 9\n",
    "    \"\"\"\n",
    "    # Initialize the circuit and apply Hadamards to all qubits\n",
    "    quantum_circuit, quantum_register, classical_register = initialize_dj(n)\n",
    "\n",
    "    # Needed for application of custom gates since Operator works in reverse\n",
    "    rv_qr = list()\n",
    "    for index in range(n):\n",
    "        rv_qr.append(index)\n",
    "    rv_qr.reverse()\n",
    "\n",
    "    # Define and generate Z0 gate (really -Z0)\n",
    "    z0_gate = get_Z0(n)\n",
    "\n",
    "    # Define and generate Zf gate\n",
    "    zf_gate = get_Zf(f, n)\n",
    "\n",
    "    # Determine the number of times to apply G\n",
    "    iteration_count = floor(pi / 4 * sqrt(2 ** n))\n",
    "    # Apply G iteration_count times\n",
    "    for i in range(iteration_count):\n",
    "        # Apply Zf\n",
    "        quantum_circuit.unitary(zf_gate, rv_qr)\n",
    "        # Apply H to all qubits\n",
    "        for index in range(n):\n",
    "            quantum_circuit.h(quantum_register[index])\n",
    "        # Apply -Z0\n",
    "        quantum_circuit.unitary(z0_gate, rv_qr)\n",
    "        # Apply H to all qubits\n",
    "        for index in range(n):\n",
    "            quantum_circuit.h(quantum_register[index])\n",
    "        quantum_circuit.barrier()\n",
    "\n",
    "    # Run simulator\n",
    "    quantum_simulator = Aer.get_backend('qasm_simulator')\n",
    "    quantum_circuit.measure(quantum_register[0:n], classical_register)\n",
    "\n",
    "    # Display circuit diagram\n",
    "    quantum_circuit.draw('mpl')\n",
    "    plt.show()\n",
    "\n",
    "    # Execute and evaluate the job results\n",
    "    job = execute(quantum_circuit, quantum_simulator, shots=shots)\n",
    "    results = job.result()\n",
    "    counts = results.get_counts(quantum_circuit)\n",
    "    return counts\n",
    "\n",
    "    # Parse results and return 1 or 0 accordingly\n",
    "#    dict = {}\n",
    "#     for key in counts:\n",
    "#         if counts[key] >= (shots/(2**n)):\n",
    "#            dict[key] = counts[key]\n",
    "#     for key in dict:\n",
    "#         poop = list(key)\n",
    "#         poop = [int(i) for i in poop]\n",
    "#         poop.reverse()\n",
    "#         if f(poop) == 1:\n",
    "#             return 1\n",
    "#     return 0\n",
    "\n"
   ]
  },
  {
   "cell_type": "markdown",
   "metadata": {},
   "source": [
    "### Running the algorithm\n",
    "Sample functions:"
   ]
  },
  {
   "cell_type": "code",
   "execution_count": 11,
   "metadata": {},
   "outputs": [],
   "source": [
    "def f_0(args):\n",
    "    return 0\n",
    "\n",
    "def f_1(args):\n",
    "    return 1\n",
    "\n",
    "def f_100(args):\n",
    "    n = len(args)\n",
    "    marked = [0]*(n-1)\n",
    "    marked.append(1)\n",
    "    if(args == marked):\n",
    "        return 1\n",
    "    return 0"
   ]
  },
  {
   "cell_type": "markdown",
   "metadata": {},
   "source": [
    "#### Evaluating Runtime\n",
    "f_0:"
   ]
  },
  {
   "cell_type": "code",
   "execution_count": 12,
   "metadata": {},
   "outputs": [
    {
     "name": "stdout",
     "output_type": "stream",
     "text": [
      "[0.04327500000000839, 0.04470299999999838, 0.08478200000000413, 0.15822299999999956, 0.15667700000000195, 0.4677069999999972, 0.644644999999997, 2.475441999999994]\n"
     ]
    },
    {
     "data": {
      "text/plain": [
       "Text(0.5, 1.0, \"Grover's: Execution Time of Zero-Function vs. Input Size\")"
      ]
     },
     "execution_count": 12,
     "metadata": {},
     "output_type": "execute_result"
    },
    {
     "data": {
      "image/png": "[encoded data removed]",
      "text/plain": [
       "<Figure size 432x288 with 1 Axes>"
      ]
     },
     "metadata": {
      "needs_background": "light"
     },
     "output_type": "display_data"
    }
   ],
   "source": [
    "input_size = 8\n",
    "times = []\n",
    "for i in range(1,input_size+1):\n",
    "    start = process_time()\n",
    "    res = grovers_algorithm(f_0, i, shots=1024, threshold=0.9)\n",
    "    times.append(process_time()-start)\n",
    "print(times)\n",
    "plt.plot(range(1,input_size+1), times)\n",
    "for x,y in zip(range(1,input_size+1),times):\n",
    "\n",
    "    label = \"{:.4f}\".format(y)\n",
    "    plt.annotate(label, # this is the text\n",
    "                 (x,y), # this is the point to label\n",
    "                 textcoords=\"offset points\", # how to position the text\n",
    "                 xytext=(0,10), # distance from text to points (x,y)\n",
    "                 ha='right') # horizontal alignment can be left, right or center\n",
    "plt.xticks(np.arange(0, input_size+1, step=1))\n",
    "plt.yticks(np.arange(0, 3.5, step=0.5))\n",
    "plt.ylabel(\"Execution Time (s)\")\n",
    "plt.xlabel(\"Input Size (n)\")\n",
    "plt.title(\"Grover's: Execution Time of Zero-Function vs. Input Size\")"
   ]
  },
  {
   "cell_type": "markdown",
   "metadata": {},
   "source": [
    "f_1:"
   ]
  },
  {
   "cell_type": "code",
   "execution_count": 13,
   "metadata": {},
   "outputs": [
    {
     "name": "stdout",
     "output_type": "stream",
     "text": [
      "[0.05504200000000026, 0.05431899999999956, 0.07360800000000722, 0.25037000000000376, 0.18521900000000358, 0.4036739999999952, 0.7915920000000085, 2.4363790000000023]\n"
     ]
    },
    {
     "data": {
      "text/plain": [
       "Text(0.5, 1.0, \"Grover's: Execution Time of One-Function vs. Input Size\")"
      ]
     },
     "execution_count": 13,
     "metadata": {},
     "output_type": "execute_result"
    },
    {
     "data": {
      "image/png": "[encoded data removed]",
      "text/plain": [
       "<Figure size 432x288 with 1 Axes>"
      ]
     },
     "metadata": {
      "needs_background": "light"
     },
     "output_type": "display_data"
    }
   ],
   "source": [
    "times = []\n",
    "for i in range(1,input_size+1):\n",
    "    start = process_time()\n",
    "    res = grovers_algorithm(f_1, i, shots=1024, threshold=0.9)\n",
    "    times.append(process_time()-start)\n",
    "print(times)\n",
    "plt.plot(range(1,input_size+1), times)\n",
    "for x,y in zip(range(1,input_size+1),times):\n",
    "\n",
    "    label = \"{:.4f}\".format(y)\n",
    "    plt.annotate(label, # this is the text\n",
    "                 (x,y), # this is the point to label\n",
    "                 textcoords=\"offset points\", # how to position the text\n",
    "                 xytext=(0,10), # distance from text to points (x,y)\n",
    "                 ha='right') # horizontal alignment can be left, right or center\n",
    "plt.xticks(np.arange(0, input_size+1, step=1))\n",
    "plt.yticks(np.arange(0, 3.5, step=0.5))\n",
    "plt.ylabel(\"Execution Time (s)\")\n",
    "plt.xlabel(\"Input Size (n)\")\n",
    "plt.title(\"Grover's: Execution Time of One-Function vs. Input Size\")"
   ]
  },
  {
   "cell_type": "markdown",
   "metadata": {},
   "source": [
    "f_100:"
   ]
  },
  {
   "cell_type": "code",
   "execution_count": 14,
   "metadata": {},
   "outputs": [
    {
     "name": "stdout",
     "output_type": "stream",
     "text": [
      "[0.06049900000000008, 0.04444899999999308, 0.07347199999999532, 0.1573190000000011, 0.15609500000000054, 0.4510099999999966, 0.7157669999999925, 2.560783000000008]\n"
     ]
    },
    {
     "data": {
      "text/plain": [
       "Text(0.5, 1.0, \"Grover's: Execution Time of First-Bit-Function vs. Input Size\")"
      ]
     },
     "execution_count": 14,
     "metadata": {},
     "output_type": "execute_result"
    },
    {
     "data": {
      "image/png": "[encoded data removed]",
      "text/plain": [
       "<Figure size 432x288 with 1 Axes>"
      ]
     },
     "metadata": {
      "needs_background": "light"
     },
     "output_type": "display_data"
    }
   ],
   "source": [
    "times = []\n",
    "for i in range(1,input_size+1):\n",
    "    start = process_time()\n",
    "    res = grovers_algorithm(f_100, i, shots=1024, threshold=0.9)\n",
    "    times.append(process_time()-start)\n",
    "print(times)\n",
    "plt.plot(range(1,input_size+1), times)\n",
    "for x,y in zip(range(1,input_size+1),times):\n",
    "\n",
    "    label = \"{:.4f}\".format(y)\n",
    "    plt.annotate(label, # this is the text\n",
    "                 (x,y), # this is the point to label\n",
    "                 textcoords=\"offset points\", # how to position the text\n",
    "                 xytext=(0,10), # distance from text to points (x,y)\n",
    "                 ha='right') # horizontal alignment can be left, right or center\n",
    "plt.xticks(np.arange(0, input_size+1, step=1))\n",
    "plt.yticks(np.arange(0, 3.5, step=0.5))\n",
    "plt.ylabel(\"Execution Time (s)\")\n",
    "plt.xlabel(\"Input Size (n)\")\n",
    "plt.title(\"Grover's: Execution Time of First-Bit-Function vs. Input Size\")"
   ]
  },
  {
   "cell_type": "markdown",
   "metadata": {},
   "source": [
    "## Simon's"
   ]
  },
  {
   "cell_type": "code",
   "execution_count": 13,
   "metadata": {},
   "outputs": [],
   "source": [
    "def generate_uf_simons(f, n):\n",
    "    \"\"\"\n",
    "    Parameters: f is an anonymous function and n is the number of bits in input: f:{0,1}^n -> {0,1}^n\n",
    "    This function returns an oracle gate representing the function f for all x in {0,1}^n and y in {0,1}^n,\n",
    "    the desired result is of the oracle is mapping the input x,y> to |x, y + f(x)> where + is addition modulo 2.\n",
    "    The function first finds the list of bitstring permutations of n bits, it then establishes a mapping which is\n",
    "    representative of the decimal number of the bitstring represents. For each |x,y>, it calculates\n",
    "    |x, y + f(x)>. Finally it constructs a permutation gate which treats each permutation as a different basis vector\n",
    "    in the 2^(n+1) dimensional complex Hilbert space that represents a system of 2*n qubits.\n",
    "    Returns: the permutation gate\n",
    "    \"\"\"\n",
    "\n",
    "    # generate list of all bitstrings of size n\n",
    "    bitstrings = []\n",
    "    get_bitstring_permutations(0, bitstrings, 2 * n, [0] * (2 * n))\n",
    "    \n",
    "    # initialize mapping and permutation list\n",
    "    perm_dict = dict()\n",
    "    perm_list = []\n",
    "    \n",
    "    # populate mapping\n",
    "    for permutation, bitstring in enumerate(bitstrings):\n",
    "        values = [0]*(len(bitstrings))\n",
    "        values[permutation] = 1\n",
    "        perm_dict[\"\".join(str(bit) for bit in bitstring)] = values\n",
    "\n",
    "    # Send each |xy> to |x, f(x) + y>\n",
    "    for bitstring in bitstrings:\n",
    "        params = bitstring[:n]\n",
    "        params2 = bitstring[n:2 * n]\n",
    "        f_values = f(bitstring[:n])\n",
    "        for i in range(n):\n",
    "            params.append((params2[i] + f_values[i]) % 2)\n",
    "        perm_list.append(perm_dict[\"\".join(str(bit) for bit in params)])\n",
    "    return Operator(np.array(perm_list))\n",
    "\n",
    "def simons_solver(Y, n):\n",
    "    \"\"\"\n",
    "    Inputs: Y is a linear system of n-1 equations in matrix form. n is the dimension of the input into f.\n",
    "    This function acts as a binary linear matrix solver.\n",
    "    Returns: the key string s, if found, or the zero bitstring\n",
    "    \"\"\"\n",
    "    # Create all possible bit strings to test for s\n",
    "    bitstrings = []\n",
    "    get_bitstring_permutations(0, bitstrings, n, [0] * n)\n",
    "\n",
    "    # For each possible s, test to see if it's a candidate\n",
    "    for s in bitstrings:\n",
    "        if s == [0] * n:\n",
    "            continue\n",
    "        candidate = True\n",
    "\n",
    "        # For each equation in Y, bit by bit test that y*s = [0]*n\n",
    "        for y in Y:\n",
    "            value = 0\n",
    "            for i in np.arange(n):\n",
    "                value = value + s[i] * y[i]\n",
    "\n",
    "            # If a bit doesn't evaluate to 0...\n",
    "            if (value % 2 == 1):\n",
    "                candidate = False\n",
    "        if (candidate):\n",
    "            return s\n",
    "\n",
    "    return [0] * n\n",
    "\n",
    "def simons_algorithm(f, n):\n",
    "    \"\"\"\n",
    "    Inputs: f is a blackbox function (f:{0,1}^n -> {0,1}^n) that is either one-to-one or two-to-one. n is the\n",
    "    dimension of the input into f. This function finds and returns the key s, if one exists, for a two-to-one\n",
    "    function by first creating a matrix U_f that represents f, then applying the appropriate quantum gates to\n",
    "    generate a linear equation. By running the circuit until we generate n-1 unique equations, the set of equations can solve for s. The Classical solver returns s.\n",
    "    Returns: the key string s, if found, or the zero bitstring\n",
    "    \"\"\"\n",
    "    #Generate the oracle gate\n",
    "    oracle = generate_uf_simons(f, n)\n",
    "    #Initialize the circuit\n",
    "    circuit = QuantumCircuit(2*n, 2*n)\n",
    "    #initialize the simulator, use qasm_simulator\n",
    "    simulator = Aer.get_backend(\"qasm_simulator\")\n",
    "    indices = list(range(2*n))\n",
    "    indices.reverse()\n",
    "    #apply Hadamards to first n qubits\n",
    "    for i in range(n):\n",
    "        circuit.h(i)\n",
    "    #apply oracle gate\n",
    "    circuit.unitary(oracle, indices, label=\"oracle\")\n",
    "    #apply Hadamards again to first n qubits\n",
    "    for i in range(n):\n",
    "        circuit.h(i)\n",
    "    indices = list(range(n))\n",
    "    #measure first n qubits\n",
    "    circuit.measure(indices, indices)\n",
    "    #Run the entire process 20 times\n",
    "    for i in range(20):\n",
    "        s = set()\n",
    "        s_trials = []\n",
    "        #Run quantum circuit until at least n-1 unique eqautions are obtained\n",
    "        while(len(s) < n-1):\n",
    "            job = execute(circuit, simulator, shots=1)\n",
    "            result = job.result()\n",
    "            counts = result.get_counts()\n",
    "            for count in counts:\n",
    "                s.add(count[2*n:n-1:-1])\n",
    "        for bitstring in s:\n",
    "            s_trials.append([int(bit) for bit in bitstring])\n",
    "        s_trials = np.array(s_trials)\n",
    "        #Solve system of equations\n",
    "        val = simons_solver(s_trials, n)\n",
    "        if val == [0] * n:\n",
    "            continue\n",
    "        #if the correct function value is found, no need to keep searching\n",
    "        f_val = f(val)\n",
    "        if f_val == f([0]*n):\n",
    "            return val\n",
    "    #s not found, return 0 bit string\n",
    "    return [0] * n"
   ]
  },
  {
   "cell_type": "code",
   "execution_count": 2,
   "metadata": {},
   "outputs": [],
   "source": [
    "def f_oto(x):\n",
    "    return x\n",
    "\n",
    "def f_tto(x):\n",
    "    res = [0]\n",
    "    if (len(x)>1):\n",
    "        res = res + x[1:]\n",
    "    return res\n"
   ]
  },
  {
   "cell_type": "markdown",
   "metadata": {},
   "source": [
    "### One-to-one"
   ]
  },
  {
   "cell_type": "code",
   "execution_count": 17,
   "metadata": {},
   "outputs": [
    {
     "name": "stdout",
     "output_type": "stream",
     "text": [
      "[0.001011999999995794, 0.1741919999999979, 0.7833630000000014, 9.575281000000004, 323.935901]\n"
     ]
    }
   ],
   "source": [
    "input_size = 5\n",
    "times = []\n",
    "for i in range(1,input_size+1):\n",
    "    start = process_time()\n",
    "    res = simons_algorithm(f_oto, i)\n",
    "    times.append(process_time()-start)\n",
    "print(times)"
   ]
  },
  {
   "cell_type": "code",
   "execution_count": 18,
   "metadata": {},
   "outputs": [
    {
     "data": {
      "text/plain": [
       "Text(0.5, 1.0, \"Simon's: Execution Time of One-to-One Function vs. Input Size\")"
      ]
     },
     "execution_count": 18,
     "metadata": {},
     "output_type": "execute_result"
    },
    {
     "data": {
      "image/png": "[encoded data removed]",
      "text/plain": [
       "<Figure size 432x288 with 1 Axes>"
      ]
     },
     "metadata": {
      "needs_background": "light"
     },
     "output_type": "display_data"
    }
   ],
   "source": [
    "plt.plot(range(1,input_size+1), times)\n",
    "for x,y in zip(range(1,input_size+1),times):\n",
    "\n",
    "    label = \"{:.4f}\".format(y)\n",
    "    plt.annotate(label, # this is the text\n",
    "                 (x,y), # this is the point to label\n",
    "                 textcoords=\"offset points\", # how to position the text\n",
    "                 xytext=(0,10), # distance from text to points (x,y)\n",
    "                 ha='right') # horizontal alignment can be left, right or center\n",
    "plt.xticks(np.arange(0, input_size+1, step=1))\n",
    "plt.yticks(np.arange(0, 450, step=50))\n",
    "plt.ylabel(\"Execution Time (s)\")\n",
    "plt.xlabel(\"Input Size (n)\")\n",
    "plt.title(\"Simon's: Execution Time of One-to-One Function vs. Input Size\")"
   ]
  },
  {
   "cell_type": "markdown",
   "metadata": {},
   "source": [
    "### Two-to-one"
   ]
  },
  {
   "cell_type": "code",
   "execution_count": 14,
   "metadata": {},
   "outputs": [
    {
     "name": "stdout",
     "output_type": "stream",
     "text": [
      "[0.0007720000000048799, 0.012640999999995017, 0.03253599999999324, 0.30037300000000045, 7.9488600000000105]\n"
     ]
    }
   ],
   "source": [
    "input_size = 5\n",
    "times = []\n",
    "for i in range(1,input_size+1):\n",
    "    start = process_time()\n",
    "    res = simons_algorithm(f_tto, i)\n",
    "    times.append(process_time()-start)\n",
    "print(times)"
   ]
  },
  {
   "cell_type": "code",
   "execution_count": 16,
   "metadata": {},
   "outputs": [
    {
     "data": {
      "text/plain": [
       "Text(0.5, 1.0, \"Simon's: Execution Time of Two-to-One Function vs. Input Size\")"
      ]
     },
     "execution_count": 16,
     "metadata": {},
     "output_type": "execute_result"
    },
    {
     "data": {
      "image/png": "[encoded data removed]",
      "text/plain": [
       "<Figure size 432x288 with 1 Axes>"
      ]
     },
     "metadata": {
      "needs_background": "light"
     },
     "output_type": "display_data"
    }
   ],
   "source": [
    "plt.plot(range(1,input_size+1), times)\n",
    "for x,y in zip(range(1,input_size+1),times):\n",
    "\n",
    "    label = \"{:.4f}\".format(y)\n",
    "    plt.annotate(label, # this is the text\n",
    "                 (x,y), # this is the point to label\n",
    "                 textcoords=\"offset points\", # how to position the text\n",
    "                 xytext=(0,10), # distance from text to points (x,y)\n",
    "                 ha='right') # horizontal alignment can be left, right or center\n",
    "plt.xticks(np.arange(0, input_size+1, step=1))\n",
    "plt.yticks(np.arange(0, 10, step=1))\n",
    "plt.ylabel(\"Execution Time (s)\")\n",
    "plt.xlabel(\"Input Size (n)\")\n",
    "plt.title(\"Simon's: Execution Time of Two-to-One Function vs. Input Size\")"
   ]
  },
  {
   "cell_type": "code",
   "execution_count": null,
   "metadata": {},
   "outputs": [],
   "source": []
  }
 ],
 "metadata": {
  "colab": {
   "collapsed_sections": [],
   "name": "Qiskit.ipynb",
   "provenance": []
  },
  "kernelspec": {
   "display_name": "Python 3",
   "language": "python",
   "name": "python3"
  },
  "language_info": {
   "codemirror_mode": {
    "name": "ipython",
    "version": 3
   },
   "file_extension": ".py",
   "mimetype": "text/x-python",
   "name": "python",
   "nbconvert_exporter": "python",
   "pygments_lexer": "ipython3",
   "version": "3.6.3"
  }
 },
 "nbformat": 4,
 "nbformat_minor": 1
}
